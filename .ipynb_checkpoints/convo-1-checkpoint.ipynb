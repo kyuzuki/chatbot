{
 "cells": [
  {
   "cell_type": "markdown",
   "metadata": {},
   "source": [
    "My conversation with the chatbot"
   ]
  },
  {
   "cell_type": "code",
   "execution_count": 1,
   "metadata": {},
   "outputs": [],
   "source": [
    "%run ./hw4.ipynb"
   ]
  },
  {
   "cell_type": "code",
   "execution_count": 2,
   "metadata": {},
   "outputs": [
    {
     "name": "stdout",
     "output_type": "stream",
     "text": [
      "Hi. Ask me about Lilo and Stitch!\n",
      "User >>> hi\n",
      "ELIZA:  Howdy\n",
      "\n",
      "User >>> how are you\n",
      "TIRED\n",
      "\n",
      "User >>> who is lilo\n",
      "ELIZA:  Lilo Pelekai is one of the main characters, who lives with her older sister Nani\n",
      "\n",
      "User >>> who is gantu\n",
      "ELIZA:  Gantu is a captain of the Galactic Federation\n",
      "\n",
      "User >>> what is experiment 1\n",
      "ELIZA: Experiment 1 is named Shrink\n",
      "\n",
      "User >>> what is shrink\n",
      "ELIZA:  A small purple experiment with a white lower jaw and chest, three wobbly legs, two stubby little arms and two floppy antennae with two rings on each antenna. Seen in pod form in \"Drowsy\". Designed to zap a green ray from his antennae to change the size of objects. His picture appears on the wall of Jumba's lab in Leroy & Stitch, along with several other pictures of Jumba and Dr. Hämsterviel's early accomplishments.\n",
      "\n",
      "User >>> what does experiment 412 do\n",
      "ELIZA:  Seen in pod form in Stitch! The Movie. Designed to burn bagels. He was mentioned in \"Link\" when Reuben was searching the experiment database.\n",
      "\n",
      "User >>> what does richter do\n",
      "ELIZA:  A small purple ankylosaurus-like creature with a lavender stomach, a bulky body and legs, a huge tail with a triangle shape at the end, a round face with a wide mouth, a round nose, black eyes, short ears, a single horn on his head and tiny spikes down his back. Designed to cause vicious, Earth-shattering earthquakes with one thump of his tail. He is named after the Richter scale, and his one true place is making milkshakes. He is seen in the episode \"Finder\" playing poker with Stitch, Yin, Yang and Cannonball and at Lilo's slumber party in the episode \"Dupe\" with Yin, Yang and Cannonball. Seen in pod form in Stitch! The Movie. He is voiced by Tress MacNeille.\n",
      "\n",
      "User >>> what does cobra do\n",
      "ELIZA:  Cobra Bubbles is a social worker who must evaluate Nani as Lilo's guardian\n",
      "\n",
      "User >>> what is your favorite experiment\n",
      "ELIZA: My favorite experiment is Experiment 452 named Bob\n",
      "What is your favorite experiment?\n",
      "\n",
      "User >>> my favorite is experiment 626\n",
      "ELIZA: Here is what I know about experiment 626\n",
      "Name:  Stitch\n",
      "Experiment Number:  626\n",
      "A blue, koala-like experiment with large rabbit-like ears, a wide mouth, a round nose, black eyes, a small, short, stubby tail, two nose wrinkles, one chin wrinkle, three tuffs of sharp hair on top of his head and on his chest as well as two extra, retractable arms, three retractable spines that run down his back (the first spine is the shortest, then longest, then medium), sharp retractable claws on his front and back paws and two retractable antennae on his head. Designed to be abnormally strong, virtually indestructible, super intelligent and very mischievous. He can think faster than a supercomputer, he is fireproof and bulletproof, can spit acid, can hear in different hearing levels, can see in the dark, can jump really high, can climb up walls and walk on ceilings, can roll into a ball, have super sight and hearing and lift objects 3000 times his own weight (but not an ounce more). His only weakness is water, as he cannot swim due to his molecular density. When he becomes good, he has a heart of gold. His one true place is, of course, as Lilo's \"dog.\" He is the first experiment to be created without Dr. Hämsterviel's funding. He is the most successful experiment Jumba has made. He's also the main character and hero in the series and in the movies. After learning of his older \"cousins\", he and his friend, Lilo, make it their mission to give them a new purpose beyond chaotic mayhem. He has a romantic relationship with Experiment 624, Angel and, later, acts like a brother to both her and Reuben. He is voiced by Chris Sanders. He is the first successful destructing experiment Jumba created after two failures: 600 and 625.\n",
      "\n",
      "User >>> where does lilo live\n",
      "ELIZA:  Lilo lives in a house outside of Kokaua Town, Hawaii\n",
      "\n",
      "User >>> what is david's job\n",
      "ELIZA:  David is a good surfer, but I am not sure what he does to earn money\n",
      "\n",
      "User >>> how tall is lilo\n",
      "ELIZA:  Lilo is 3 feet 5 inches tall\n",
      "\n",
      "User >>> how tall is nani\n",
      "ELIZA:  If Lilo is ~3.5 feet tall, Nani must be at least 8 feet tall when looking at them next to eachother.\n",
      "\n",
      "User >>> how tall is gantu\n",
      "ELIZA:  Gantu is around 20 feet tall\n",
      "\n",
      "User >>> what happens in season 2 episode 13\n",
      "ELIZA:  Keoni is going away for the weekend, so Lilo uses a shape-shifting experiment to transform into him, and win the island's skateboarding competition's grand prize. At the same time, Jake, Gramps and Fu Dog (from American Dragon: Jake Long) visit the island to check out reports that magical creatures (actually Jumba's experiments) are running rampant. Nani and Pleakley do not appear in this episode.\n",
      "\n",
      "User >>> what happens in season 1 episode 24\n",
      "ELIZA:  A small, purple shark-like experiment is destroying and sinking enemy ships with its large dorsal fin. His one true place is at a Japanese restaurant where he uses his large fin to cut up vegetables and fillet fish for the chefs to make sushi.\n",
      "\n",
      "User >>> what happens in season 3 episode 1\n",
      "There are only 2 seasons of Lilo & Stitch: The Series\n",
      "\n",
      "User >>> leroy is better than stitch\n",
      "I disagree. I think that stitch is better than leroy\n",
      "\n",
      "A blue, koala-like experiment with large rabbit-like ears, a wide mouth, a round nose, black eyes, a small, short, stubby tail, two nose wrinkles, one chin wrinkle, three tuffs of sharp hair on top of his head and on his chest as well as two extra, retractable arms, three retractable spines that run down his back (the first spine is the shortest, then longest, then medium), sharp retractable claws on his front and back paws and two retractable antennae on his head. Designed to be abnormally strong, virtually indestructible, super intelligent and very mischievous. He can think faster than a supercomputer, he is fireproof and bulletproof, can spit acid, can hear in different hearing levels, can see in the dark, can jump really high, can climb up walls and walk on ceilings, can roll into a ball, have super sight and hearing and lift objects 3000 times his own weight (but not an ounce more). His only weakness is water, as he cannot swim due to his molecular density. When he becomes good, he has a heart of gold. His one true place is, of course, as Lilo's \"dog.\" He is the first experiment to be created without Dr. Hämsterviel's funding. He is the most successful experiment Jumba has made. He's also the main character and hero in the series and in the movies. After learning of his older \"cousins\", he and his friend, Lilo, make it their mission to give them a new purpose beyond chaotic mayhem. He has a romantic relationship with Experiment 624, Angel and, later, acts like a brother to both her and Reuben. He is voiced by Chris Sanders. He is the first successful destructing experiment Jumba created after two failures: 600 and 625.\n",
      "\n",
      "User >>> stitch is better than leroy\n",
      "I disagree. I think that leroy is better than stitch\n",
      "\n",
      "Stitch's evil twin, with red fur, frilly ears, yellow teeth, bent antennae, three bent spines on his back, a fluffy tail, and a slightly deeper voice as well as two extra, retractable arms and retractable claws on his front paws. Jumba started creating him from a template similar to Stitch, until Dr. Hämsterviel captured him and forced him to make a \"new version\" of 626. Designed to have all of Stitch's powers, but he also has the ability to disguise himself as Stitch by changing his fur color from red to blue (Dr. Hämsterviel hates the color blue, so he told Jumba to make him resplendent red to match his cape) and instantly regrow his fur. Leroy is very physical, but also makes liberal use of his plasma gun. After naming him \"Leroy\", Dr. Hämsterviel used a cloning machine to create an army, then sent the original Leroy down to Earth to capture the 624 experiments remaining there. Fortunately, Jumba secretly programmed a failsafe into Leroy before he was charged: If Leroy (or his clones) hears the song \"Aloha Oe\", his nervous system will shut down. After his defeat, Leroy and his clones are all placed in jail with Hämsterviel. Leroy's number is never mentioned in the movie. Jumba tries to call him \"627\" as mentioned on the Disney website, but Gantu reminds him that he's already made experiment 627. He is voiced by Chris Sanders. He and all his clones are sent to jail at the end of the movie, where they are seen happily dancing to \"Jailhouse Rock\".\n",
      "\n"
     ]
    },
    {
     "name": "stdout",
     "output_type": "stream",
     "text": [
      "User >>> i love lilo and stitch\n",
      "I also love stitch . Tell me more about lilo\n",
      "\n",
      "User >>> does lilo go to space\n",
      "ELIZA: Yes, lilo goes to space\n",
      "\n",
      "User >>> does jumba go to jail\n",
      "ELIZA: Yes, jumba goes to jail\n",
      "\n",
      "User >>> is it possible for experiment 123 to dance\n",
      "ELIZA: Yes, experiment 123 can dance\n",
      "In fact, experiment 123 can do many things. A pink, blue-eyed, antennaless, Angel (624)-like experiment, wearing a headdress of fruits and holding a maraca in each of her four hands. Designed to make people dance until they drop, after her namesake Carmen Miranda.\n",
      "\n",
      "User >>> can stitch jump\n",
      "ELIZA: Yes, stitch can jump\n",
      "In fact, stitch can do many things. A blue, koala-like experiment with large rabbit-like ears, a wide mouth, a round nose, black eyes, a small, short, stubby tail, two nose wrinkles, one chin wrinkle, three tuffs of sharp hair on top of his head and on his chest as well as two extra, retractable arms, three retractable spines that run down his back (the first spine is the shortest, then longest, then medium), sharp retractable claws on his front and back paws and two retractable antennae on his head. Designed to be abnormally strong, virtually indestructible, super intelligent and very mischievous. He can think faster than a supercomputer, he is fireproof and bulletproof, can spit acid, can hear in different hearing levels, can see in the dark, can jump really high, can climb up walls and walk on ceilings, can roll into a ball, have super sight and hearing and lift objects 3000 times his own weight (but not an ounce more). His only weakness is water, as he cannot swim due to his molecular density. When he becomes good, he has a heart of gold. His one true place is, of course, as Lilo's \"dog.\" He is the first experiment to be created without Dr. Hämsterviel's funding. He is the most successful experiment Jumba has made. He's also the main character and hero in the series and in the movies. After learning of his older \"cousins\", he and his friend, Lilo, make it their mission to give them a new purpose beyond chaotic mayhem. He has a romantic relationship with Experiment 624, Angel and, later, acts like a brother to both her and Reuben. He is voiced by Chris Sanders. He is the first successful destructing experiment Jumba created after two failures: 600 and 625.\n",
      "\n",
      "User >>> ok thanks, quit\n",
      "ELIZA: What do you think about ok thanks quit ?\n",
      "\n",
      "User >>> quit\n",
      "Goodbye\n"
     ]
    }
   ],
   "source": [
    "interact()"
   ]
  },
  {
   "cell_type": "code",
   "execution_count": null,
   "metadata": {},
   "outputs": [],
   "source": []
  }
 ],
 "metadata": {
  "kernelspec": {
   "display_name": "Python 3",
   "language": "python",
   "name": "python3"
  },
  "language_info": {
   "codemirror_mode": {
    "name": "ipython",
    "version": 3
   },
   "file_extension": ".py",
   "mimetype": "text/x-python",
   "name": "python",
   "nbconvert_exporter": "python",
   "pygments_lexer": "ipython3",
   "version": "3.9.1"
  }
 },
 "nbformat": 4,
 "nbformat_minor": 2
}
